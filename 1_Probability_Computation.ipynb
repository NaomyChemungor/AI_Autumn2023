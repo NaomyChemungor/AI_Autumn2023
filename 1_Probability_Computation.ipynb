{
  "nbformat": 4,
  "nbformat_minor": 0,
  "metadata": {
    "colab": {
      "provenance": [],
      "authorship_tag": "ABX9TyMbH3GrNFczQAsSVU6/kURm",
      "include_colab_link": true
    },
    "kernelspec": {
      "name": "python3",
      "display_name": "Python 3"
    },
    "language_info": {
      "name": "python"
    }
  },
  "cells": [
    {
      "cell_type": "markdown",
      "metadata": {
        "id": "view-in-github",
        "colab_type": "text"
      },
      "source": [
        "<a href=\"https://colab.research.google.com/github/NaomyChemungor/AI_Autumn2023/blob/main/1_Probability_Computation.ipynb\" target=\"_parent\"><img src=\"https://colab.research.google.com/assets/colab-badge.svg\" alt=\"Open In Colab\"/></a>"
      ]
    },
    {
      "cell_type": "code",
      "execution_count": null,
      "metadata": {
        "id": "3Pjhm6KeEFkG",
        "colab": {
          "base_uri": "https://localhost:8080/"
        },
        "outputId": "7c7da0d8-3c24-415c-c7d5-4b6f3b0eec8c"
      },
      "outputs": [
        {
          "output_type": "stream",
          "name": "stdout",
          "text": [
            "P(W >= 2.34) = 0.025050823972958325\n"
          ]
        }
      ],
      "source": [
        "import scipy.stats as stats\n",
        "\n",
        "# Define the degrees of freedom\n",
        "v1 = 13\n",
        "v2 = 32\n",
        "\n",
        "# Define the critical value\n",
        "critical_value = 2.34\n",
        "\n",
        "# Calculate the probability P(W >= 2.34)\n",
        "probability = 1 - stats.f.cdf(critical_value, v1, v2)\n",
        "\n",
        "# Print the result\n",
        "print(\"P(W >= 2.34) =\", probability)\n"
      ]
    },
    {
      "cell_type": "code",
      "source": [
        "from scipy.stats import binom\n",
        "\n",
        "n = 123\n",
        "p = 0.37\n",
        "lower_bound = 43\n",
        "upper_bound = 56\n",
        "\n",
        "# Initialize the probability to 0\n",
        "probability = 0\n",
        "\n",
        "# Sum the probabilities for each value in the specified range\n",
        "for k in range(lower_bound, upper_bound + 1):\n",
        "    probability += binom.pmf(k, n, p)\n",
        "\n",
        "print(\"P(43 ≤ S ≤ 56) =\", probability)\n"
      ],
      "metadata": {
        "colab": {
          "base_uri": "https://localhost:8080/"
        },
        "id": "QH_ytLvZKm3q",
        "outputId": "d6439674-cdec-40b6-c7b3-bfdab1edafa7"
      },
      "execution_count": null,
      "outputs": [
        {
          "output_type": "stream",
          "name": "stdout",
          "text": [
            "P(43 ≤ S ≤ 56) = 0.6899039942227068\n"
          ]
        }
      ]
    },
    {
      "cell_type": "code",
      "source": [
        "import scipy.integrate as spi\n",
        "import numpy as np\n",
        "\n",
        "# Define the joint density function\n",
        "def joint_density(x, y):\n",
        "    return (2 * x + 3 * y) * np.log(1 + x**2 + y**2)\n",
        "\n",
        "# Calculate the normalization constant k\n",
        "k = 1 / spi.dblquad(joint_density, 0, 1, 0, 1)[0]\n",
        "\n",
        "print(\"Normalization constant k:\", k)\n"
      ],
      "metadata": {
        "colab": {
          "base_uri": "https://localhost:8080/"
        },
        "id": "67DaOh_nP4WX",
        "outputId": "cb69e66b-213e-49bc-9632-96f9632eb3a7"
      },
      "execution_count": null,
      "outputs": [
        {
          "output_type": "stream",
          "name": "stdout",
          "text": [
            "Normalization constant k: 0.6898682164919088\n"
          ]
        }
      ]
    },
    {
      "cell_type": "code",
      "source": [
        "from scipy.integrate import dblquad\n",
        "import numpy as np\n",
        "\n",
        "def integrand(x, y):\n",
        "    return 0.68988 * (2*x + 3*y) * np.log(1 + x**2 + y**2)\n",
        "\n",
        "result, _ = dblquad(integrand, 0.5, 1, 0.5, 1)\n",
        "print(result)\n"
      ],
      "metadata": {
        "colab": {
          "base_uri": "https://localhost:8080/"
        },
        "id": "BvcY9_k9QCda",
        "outputId": "91b24a6e-5d80-4ed5-992b-83452b428afc"
      },
      "execution_count": null,
      "outputs": [
        {
          "output_type": "stream",
          "name": "stdout",
          "text": [
            "0.5060498925376673\n"
          ]
        }
      ]
    }
  ]
}