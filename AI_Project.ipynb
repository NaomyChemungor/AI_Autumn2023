{
  "cells": [
    {
      "cell_type": "markdown",
      "metadata": {
        "id": "view-in-github",
        "colab_type": "text"
      },
      "source": [
        "<a href=\"https://colab.research.google.com/github/NaomyChemungor/AI_Autumn2023/blob/main/AI_Project.ipynb\" target=\"_parent\"><img src=\"https://colab.research.google.com/assets/colab-badge.svg\" alt=\"Open In Colab\"/></a>"
      ]
    },
    {
      "cell_type": "code",
      "execution_count": null,
      "metadata": {
        "id": "kxldJwrSh0ih"
      },
      "outputs": [],
      "source": [
        "import tensorflow as tf\n",
        "import numpy as np\n",
        "import matplotlib.pyplot as plt"
      ]
    },
    {
      "cell_type": "code",
      "execution_count": null,
      "metadata": {
        "id": "vuFH3SCrXJT8",
        "colab": {
          "base_uri": "https://localhost:8080/"
        },
        "outputId": "f2beb531-cb3f-47f4-f815-064d4d8d448e"
      },
      "outputs": [
        {
          "output_type": "stream",
          "name": "stdout",
          "text": [
            "Downloading data from https://storage.googleapis.com/tensorflow/tf-keras-datasets/mnist.npz\n",
            "11490434/11490434 [==============================] - 0s 0us/step\n"
          ]
        }
      ],
      "source": [
        "# Load the MNIST dataset\n",
        "mnist = tf.keras.datasets.mnist\n",
        "\n",
        "# train_images = X_train\n",
        "# train_labels = y_train\n",
        "# test_images = X_test\n",
        "# test_labels = y_test\n",
        "\n",
        "# Split the dataset into training and testing sets\n",
        "(X_train, y_train), (X_test, y_test) = mnist.load_data()\n"
      ]
    },
    {
      "cell_type": "code",
      "execution_count": null,
      "metadata": {
        "colab": {
          "base_uri": "https://localhost:8080/"
        },
        "id": "R0tLWzhYlCOp",
        "outputId": "ca9f11da-8ecb-4c28-ec97-dc4c708c2c84"
      },
      "outputs": [
        {
          "name": "stdout",
          "output_type": "stream",
          "text": [
            "<class 'numpy.ndarray'>\n"
          ]
        }
      ],
      "source": [
        "print(type(y_train))"
      ]
    },
    {
      "cell_type": "code",
      "execution_count": null,
      "metadata": {
        "id": "Q3Xp3tznkHTP"
      },
      "outputs": [],
      "source": [
        "# Normalize the pixel values to the range [0, 1]\n",
        "#X_train, X_test = X_train / 255.0, X_test / 255.0\n",
        "\n",
        "# Normalize the pixel values to the range -1 to 1(Feature Scaling)\n",
        "X_train = (X_train.astype(np.float32) / 127.5) - 1.0\n",
        "X_test = (X_test.astype(np.float32) / 127.5) - 1.0"
      ]
    },
    {
      "cell_type": "code",
      "execution_count": null,
      "metadata": {
        "colab": {
          "base_uri": "https://localhost:8080/"
        },
        "id": "pR2GB5WQXbD0",
        "outputId": "c13e9d98-1e9e-4d81-a7d2-860785986466"
      },
      "outputs": [
        {
          "output_type": "stream",
          "name": "stdout",
          "text": [
            "(60000, 28, 28)\n",
            "(60000,)\n",
            "(10000, 28, 28)\n",
            "(10000,)\n",
            "<class 'numpy.ndarray'>\n",
            "(28, 28)\n"
          ]
        }
      ],
      "source": [
        "print(X_train.shape)\n",
        "print(y_train.shape)\n",
        "print(X_test.shape)\n",
        "print(y_test.shape)\n",
        "print(type(X_train))\n",
        "# a single image array (28x28):\n",
        "print(X_train[0].shape)\n",
        "#print(X_train[0])"
      ]
    },
    {
      "cell_type": "code",
      "execution_count": null,
      "metadata": {
        "colab": {
          "base_uri": "https://localhost:8080/"
        },
        "id": "8EP-T4QFihFF",
        "outputId": "d85617ae-0272-4f23-d1f2-c2cb10b76bb6"
      },
      "outputs": [
        {
          "output_type": "stream",
          "name": "stdout",
          "text": [
            "(60000, 16, 16)\n",
            "(10000, 16, 16)\n"
          ]
        }
      ],
      "source": [
        "from cv2 import resize\n",
        "\n",
        "# Loop through the images, resize them to 16x16\n",
        "\n",
        "X_train_res16 = []\n",
        "for image in X_train:\n",
        "    resized_image = resize(image, (16, 16))\n",
        "    X_train_res16.append(resized_image)\n",
        "X_train_res16 = np.array(X_train_res16)\n",
        "\n",
        "X_test_res16 = []\n",
        "for image in X_test:\n",
        "    resized_image = resize(image, (16, 16))\n",
        "    X_test_res16.append(resized_image)\n",
        "X_test_res16 = np.array(X_test_res16)\n",
        "\n",
        "print(X_train_res16.shape)\n",
        "print(X_test_res16.shape)"
      ]
    },
    {
      "cell_type": "code",
      "execution_count": null,
      "metadata": {
        "colab": {
          "base_uri": "https://localhost:8080/"
        },
        "id": "9GO_IHQPTdhx",
        "outputId": "608619f4-a9c1-4843-f4f8-c7a2f575ac8e"
      },
      "outputs": [
        {
          "output_type": "stream",
          "name": "stdout",
          "text": [
            "[[-1.         -1.         -1.         -1.         -1.         -1.\n",
            "  -1.         -1.         -1.         -1.         -1.         -1.\n",
            "  -1.         -1.         -1.         -1.        ]\n",
            " [-1.         -1.         -1.         -1.         -1.         -1.\n",
            "  -1.         -1.         -1.         -1.         -1.         -1.\n",
            "  -1.         -1.         -1.         -1.        ]\n",
            " [-1.         -1.         -1.         -1.         -1.         -1.\n",
            "  -1.         -1.         -1.         -1.         -1.         -1.\n",
            "  -1.         -1.         -1.         -1.        ]\n",
            " [-1.         -1.         -1.         -1.         -0.94485295 -0.7879902\n",
            "  -0.28186268  0.12401959  0.29313725  0.61446077  0.6204657   0.42512256\n",
            "   0.84105396 -0.39865196 -1.         -1.        ]\n",
            " [-1.         -1.         -1.         -1.         -0.13774511  0.9843137\n",
            "   0.9843137   0.9843137   0.80490196  0.9632353  -0.35870096 -0.5980392\n",
            "  -0.7567402  -1.         -1.         -1.        ]\n",
            " [-1.         -1.         -1.         -1.         -0.7941177   0.04068631\n",
            "   0.7432597   0.67855394 -0.95281863 -0.60968137 -0.86789215 -1.\n",
            "  -1.         -1.         -1.         -1.        ]\n",
            " [-1.         -1.         -1.         -1.         -1.         -0.98786765\n",
            "  -0.03308819  0.6142157  -0.9914216  -1.         -1.         -1.\n",
            "  -1.         -1.         -1.         -1.        ]\n",
            " [-1.         -1.         -1.         -1.         -1.         -1.\n",
            "  -0.9716912   0.47732845  0.1121324  -0.53615195 -0.99938726 -1.\n",
            "  -1.         -1.         -1.         -1.        ]\n",
            " [-1.         -1.         -1.         -1.         -1.         -1.\n",
            "  -1.         -0.7518382   0.4882353   0.9022059  -0.3408088  -0.97022057\n",
            "  -1.         -1.         -1.         -1.        ]\n",
            " [-1.         -1.         -1.         -1.         -1.         -1.\n",
            "  -1.         -1.         -0.95882356 -0.19485292  0.9829657  -0.38799018\n",
            "  -1.         -1.         -1.         -1.        ]\n",
            " [-1.         -1.         -1.         -1.         -1.         -1.\n",
            "  -1.         -1.         -0.46813723  0.34644613  0.98382354 -0.32794118\n",
            "  -1.         -1.         -1.         -1.        ]\n",
            " [-1.         -1.         -1.         -1.         -1.         -0.9852941\n",
            "  -0.49632353  0.49644607  0.9401961   0.952451    0.19411764 -0.7992647\n",
            "  -1.         -1.         -1.         -1.        ]\n",
            " [-1.         -1.         -1.         -0.9669118  -0.4018382   0.15772061\n",
            "   0.95980394  0.8776961   0.29607844 -0.65134805 -0.9987745  -1.\n",
            "  -1.         -1.         -1.         -1.        ]\n",
            " [-1.         -1.         -0.55306375  0.6600491   0.9692402   0.8682598\n",
            "   0.71213233 -0.6105392  -1.         -1.         -1.         -1.\n",
            "  -1.         -1.         -1.         -1.        ]\n",
            " [-1.         -1.         -0.8833333  -0.75196075 -0.7670343  -0.86801475\n",
            "  -0.970098   -1.         -1.         -1.         -1.         -1.\n",
            "  -1.         -1.         -1.         -1.        ]\n",
            " [-1.         -1.         -1.         -1.         -1.         -1.\n",
            "  -1.         -1.         -1.         -1.         -1.         -1.\n",
            "  -1.         -1.         -1.         -1.        ]]\n"
          ]
        }
      ],
      "source": [
        "# Normalize the pixel values to the range [0, 1]\n",
        "#X_train_res16, X_test_res16 = X_train_res16 / 255.0, X_test_res16 / 255.0\n",
        "\n",
        "print(X_train_res16[0])"
      ]
    },
    {
      "cell_type": "code",
      "execution_count": null,
      "metadata": {
        "id": "4P24Lhzxhb2S",
        "colab": {
          "base_uri": "https://localhost:8080/",
          "height": 1000
        },
        "outputId": "cedbb3b5-9cd0-404c-8b62-1fa9fb55e13b"
      },
      "outputs": [
        {
          "output_type": "display_data",
          "data": {
            "text/plain": [
              "<Figure size 200x200 with 1 Axes>"
            ],
            "image/png": "[encoded data removed]"
          },
          "metadata": {}
        },
        {
          "output_type": "display_data",
          "data": {
            "text/plain": [
              "<Figure size 200x200 with 1 Axes>"
            ],
            "image/png": "[encoded data removed]"
          },
          "metadata": {}
        },
        {
          "output_type": "display_data",
          "data": {
            "text/plain": [
              "<Figure size 200x200 with 1 Axes>"
            ],
            "image/png": "[encoded data removed]"
          },
          "metadata": {}
        },
        {
          "output_type": "display_data",
          "data": {
            "text/plain": [
              "<Figure size 200x200 with 1 Axes>"
            ],
            "image/png": "[encoded data removed]"
          },
          "metadata": {}
        },
        {
          "output_type": "display_data",
          "data": {
            "text/plain": [
              "<Figure size 200x200 with 1 Axes>"
            ],
            "image/png": "[encoded data removed]"
          },
          "metadata": {}
        }
      ],
      "source": [
        "# Extract and display the selected image\n",
        "def display_dig_img(X_set, y_set, image_index):\n",
        "  plt.figure(figsize=(2, 2))\n",
        "  plt.imshow(X_set[image_index], cmap='gray')  # Display the image in grayscale\n",
        "  plt.title(f\"Labelled as {y_set[image_index]}\")\n",
        "  #plt.axis('off')  # Hide axis labels\n",
        "  plt.show()\n",
        "\n",
        "display_dig_img(X_train, y_train, 0)\n",
        "display_dig_img(X_train_res16, y_train, 0)\n",
        "display_dig_img(X_train, y_train, 1)\n",
        "display_dig_img(X_train_res16, y_train, 1)\n",
        "display_dig_img(X_test, y_test, 0)"
      ]
    },
    {
      "cell_type": "code",
      "execution_count": null,
      "metadata": {
        "colab": {
          "base_uri": "https://localhost:8080/"
        },
        "id": "bU4y09R2nY22",
        "outputId": "a18775df-4645-42a5-eac5-2733fea4d5ad"
      },
      "outputs": [
        {
          "output_type": "stream",
          "name": "stdout",
          "text": [
            "(60000, 784)\n",
            "(10000, 784)\n"
          ]
        }
      ],
      "source": [
        "# Flatten the original images to 1D\n",
        "X_train_flat = X_train.reshape(X_train.shape[0], -1)\n",
        "X_test_flat = X_test.reshape(X_test.shape[0], -1)\n",
        "print(X_train_flat.shape)\n",
        "print(X_test_flat.shape)\n",
        "#print(X_train_flat[0])"
      ]
    },
    {
      "cell_type": "code",
      "execution_count": null,
      "metadata": {
        "colab": {
          "base_uri": "https://localhost:8080/"
        },
        "id": "Bm4UDmwFzJrp",
        "outputId": "53489c00-d7fa-4b60-da76-ccd666862808"
      },
      "outputs": [
        {
          "output_type": "stream",
          "name": "stdout",
          "text": [
            "(60000, 256)\n",
            "(10000, 256)\n"
          ]
        }
      ],
      "source": [
        "# Flatten the resized images\n",
        "X_train_res16_flat = X_train_res16.reshape(X_train_res16.shape[0], -1)\n",
        "X_test_res16_flat = X_test_res16.reshape(X_test_res16.shape[0], -1)\n",
        "print(X_train_res16_flat.shape)\n",
        "print(X_test_res16_flat.shape)"
      ]
    },
    {
      "cell_type": "code",
      "execution_count": null,
      "metadata": {
        "id": "dw6ZMQYbp2jn"
      },
      "outputs": [],
      "source": [
        "from tensorflow.keras.models import Sequential\n",
        "from tensorflow.keras.layers import Flatten, Dense\n",
        "from tensorflow.keras.utils import to_categorical"
      ]
    },
    {
      "cell_type": "code",
      "execution_count": null,
      "metadata": {
        "colab": {
          "base_uri": "https://localhost:8080/"
        },
        "id": "iAMMcbPQ0u1E",
        "outputId": "d67a869d-e855-4e0a-f81f-e667a47cffec"
      },
      "outputs": [
        {
          "name": "stdout",
          "output_type": "stream",
          "text": [
            "5\n",
            "[0. 0. 0. 0. 0. 1. 0. 0. 0. 0.]\n"
          ]
        }
      ],
      "source": [
        "# Convert labels to one-hot encoding - needed for NN\n",
        "print(y_train[0])\n",
        "y_train_ohe = to_categorical(y_train, 10)\n",
        "y_test_ohe = to_categorical(y_test, 10)\n",
        "print(y_train_ohe[0])"
      ]
    },
    {
      "cell_type": "code",
      "execution_count": null,
      "metadata": {
        "colab": {
          "base_uri": "https://localhost:8080/"
        },
        "id": "xU7-HKXPjhQK",
        "outputId": "b590bda8-a002-4990-ca28-fe7b9f5eb96b"
      },
      "outputs": [
        {
          "output_type": "stream",
          "name": "stdout",
          "text": [
            "[0.42725601 0.07969336 0.01436603 0.00188778 0.14915122 0.02656996\n",
            " 0.06352419 0.22083039 0.00767851 0.00904255]\n",
            "Weights: \n",
            "[[ 0.03922335 -0.11857001 -0.10608504 ...  0.14492742 -0.1146616\n",
            "  -0.05406428]\n",
            " [-0.07218638  0.09369172  0.00630813 ...  0.10993444 -0.06676351\n",
            "   0.08507965]\n",
            " [ 0.0237749  -0.14024863 -0.04131761 ... -0.07716783 -0.06856268\n",
            "   0.06922663]\n",
            " ...\n",
            " [-0.08945132  0.06535991 -0.05803473 ...  0.02275297 -0.07222815\n",
            "  -0.00770389]\n",
            " [-0.01789963  0.00913546 -0.1391051  ...  0.04346832 -0.02868345\n",
            "   0.09353987]\n",
            " [-0.12904136 -0.11397487  0.03463211 ... -0.0034587  -0.11144316\n",
            "   0.04212292]]\n"
          ]
        }
      ],
      "source": [
        "'''\n",
        "def init_weights2(input_pixels):\n",
        "  # rand - random samples from a uniform distribution over [0, 1)\n",
        "  weights = np.random.rand(input_pixels, 10) # input_features x output neurons\n",
        "  return weights\n",
        "'''\n",
        "\n",
        "# to be used for the hidden layer(s)\n",
        "def relu(x):\n",
        "  return max(0, x)\n",
        "\n",
        "# He initialization https://doi.org/10.48550/arXiv.1502.01852\n",
        "def init_weights_he(input_pixels):\n",
        "  # Calculate the standard deviation based on the formula\n",
        "  std_dev = np.sqrt(2 / input_pixels)\n",
        "\n",
        "  # Generate random numbers with a normal distribution\n",
        "  weights = np.random.normal(loc=0.0, scale=std_dev, size=(input_pixels, 10))\n",
        "\n",
        "  # Verify the mean and standard deviation of the generated numbers\n",
        "  mean_generated = np.mean(weights)\n",
        "  std_dev_generated = np.std(weights)\n",
        "  print(\"He Distribution Mean:\", mean_generated)\n",
        "  print(\"He Distribution Standard Deviation:\", std_dev_generated)\n",
        "  return weights\n",
        "\n",
        " # to be used for the output layer - will return an array of probabilities where each element represents the probability of a class. The sum of all probabilities will be equal to 1\n",
        "def softmax(logits):\n",
        "    exp_logits = np.exp(logits)\n",
        "    sum_exp_logits = np.sum(exp_logits)\n",
        "    probabilities = exp_logits / sum_exp_logits\n",
        "    return probabilities\n",
        "\n",
        "# to be used with Sigmoid, Tanh and Sigmoid activation\n",
        "# Xavier Glorot initialization\n",
        "# Uniform Xavier Init\n",
        "def init_weights_xavier(input_neurons, output_neurons):\n",
        "\n",
        "    # Calculate the range for random initialization\n",
        "    limit = np.sqrt(6 / (input_neurons + output_neurons))\n",
        "\n",
        "    # Generate random weights within the specified range\n",
        "    weights = np.random.uniform(-limit, limit, size=(input_neurons, output_neurons))\n",
        "\n",
        "    return weights\n",
        "\n",
        "\n",
        "biases = np.zeros(10)  # 1 bias for each output neuron\n",
        "\n",
        "weights = init_weights_xavier(256, 10)\n",
        "#print(f'Weights: \\n{weights}')\n",
        "#print(f'Biases: \\n{biases}')\n",
        "#print(f'Image: \\n{X_train_res16_flat[0]}')\n",
        "\n",
        "logits = np.dot(X_train_res16_flat[0], weights)+biases\n",
        "#result = np.vectorize(relu)(result)  # <=> result = np.maximum(0, result)\n",
        "\n",
        "probabilities = softmax(logits)\n",
        "print(probabilities)\n",
        "print(f'Weights: \\n{weights}')\n",
        "\n",
        "\n",
        "#print(f'Image: \\n{X_train_res16_flat[0]}')\n",
        "#     a = ReLU(np.dot(weights, a)+biases)\n"
      ]
    },
    {
      "cell_type": "code",
      "execution_count": null,
      "metadata": {
        "colab": {
          "base_uri": "https://localhost:8080/"
        },
        "id": "n9l3TTjdaHJG",
        "outputId": "1e6078a4-cb39-4dbb-cdb5-234655a75adf"
      },
      "outputs": [
        {
          "name": "stdout",
          "output_type": "stream",
          "text": [
            "Epoch 1/5\n",
            "1875/1875 [==============================] - 4s 2ms/step - loss: 0.3022 - accuracy: 0.9143\n",
            "Epoch 2/5\n",
            "1875/1875 [==============================] - 3s 2ms/step - loss: 0.1435 - accuracy: 0.9588\n",
            "Epoch 3/5\n",
            "1875/1875 [==============================] - 3s 2ms/step - loss: 0.1051 - accuracy: 0.9693\n",
            "Epoch 4/5\n",
            "1875/1875 [==============================] - 3s 2ms/step - loss: 0.0835 - accuracy: 0.9747\n",
            "Epoch 5/5\n",
            "1875/1875 [==============================] - 3s 2ms/step - loss: 0.0696 - accuracy: 0.9790\n",
            "313/313 [==============================] - 0s 1ms/step - loss: 0.0864 - accuracy: 0.9747\n",
            "Test accuracy: 0.9746999740600586\n"
          ]
        }
      ],
      "source": [
        "\n",
        "# Create a simple feedforward Neural Network model\n",
        "model = Sequential([\n",
        "    Flatten(input_shape=(28, 28)),\n",
        "#    Dense(128, activation='relu'),\n",
        "    Dense(64, activation='relu'),\n",
        "    Dense(10, activation='softmax')\n",
        "])\n",
        "\n",
        "# Compile the model\n",
        "model.compile(optimizer='adam',\n",
        "              loss='categorical_crossentropy',\n",
        "              metrics=['accuracy'])\n",
        "\n",
        "# Train the model\n",
        "#model.fit(X_train, y_train, epochs=5, batch_size=32, validation_split=0.2)\n",
        "model.fit(X_train, y_train_ohe, epochs=5)\n",
        "\n",
        "# Evaluate the model on the test dataset\n",
        "test_loss, test_accuracy = model.evaluate(X_test, y_test_ohe)\n",
        "print(f\"Test accuracy: {test_accuracy}\")"
      ]
    },
    {
      "cell_type": "code",
      "execution_count": null,
      "metadata": {
        "colab": {
          "base_uri": "https://localhost:8080/"
        },
        "id": "Q5jXVZt20e1m",
        "outputId": "26c8166e-d18b-4769-b2ea-31bbc5c4bf32"
      },
      "outputs": [
        {
          "name": "stdout",
          "output_type": "stream",
          "text": [
            "Epoch 1/5\n",
            "1875/1875 [==============================] - 3s 1ms/step - loss: 0.3943 - accuracy: 0.8930\n",
            "Epoch 2/5\n",
            "1875/1875 [==============================] - 2s 1ms/step - loss: 0.1985 - accuracy: 0.9430\n",
            "Epoch 3/5\n",
            "1875/1875 [==============================] - 2s 1ms/step - loss: 0.1505 - accuracy: 0.9566\n",
            "Epoch 4/5\n",
            "1875/1875 [==============================] - 2s 1ms/step - loss: 0.1223 - accuracy: 0.9645\n",
            "Epoch 5/5\n",
            "1875/1875 [==============================] - 2s 1ms/step - loss: 0.1039 - accuracy: 0.9697\n",
            "313/313 [==============================] - 0s 1ms/step - loss: 0.1061 - accuracy: 0.9688\n",
            "Test accuracy: 0.9688000082969666\n"
          ]
        }
      ],
      "source": [
        "# Create a simple feedforward neural network model\n",
        "model = Sequential([\n",
        "    Flatten(input_shape=(16, 16)),\n",
        "#    Dense(128, activation='relu'),\n",
        "    Dense(64, activation='relu'),\n",
        "    Dense(10, activation='softmax')\n",
        "])\n",
        "\n",
        "# Compile the model\n",
        "model.compile(optimizer='adam',\n",
        "              loss='categorical_crossentropy',\n",
        "              metrics=['accuracy'])\n",
        "\n",
        "# Train the model\n",
        "#model.fit(X_train, y_train, epochs=5, batch_size=32, validation_split=0.2)\n",
        "model.fit(X_train_res16, y_train_ohe, epochs=5)\n",
        "\n",
        "# Evaluate the model on the test dataset\n",
        "test_loss2, test_accuracy2 = model.evaluate(X_test_res16, y_test_ohe)\n",
        "print(f\"Test accuracy: {test_accuracy2}\")"
      ]
    },
    {
      "cell_type": "code",
      "execution_count": null,
      "metadata": {
        "id": "0Ov4FDAz30Gp"
      },
      "outputs": [],
      "source": [
        "\n",
        "from sklearn.cluster import KMeans\n",
        "from sklearn.metrics import accuracy_score\n",
        "\n",
        "\n",
        "# Load the MNIST dataset\n",
        "(x_train, y_train), (x_test, y_test) = mnist.load_data()\n",
        "\n",
        "# Flatten the images\n",
        "x_train = x_train.reshape(-1, 28 * 28)\n",
        "x_test = x_test.reshape(-1, 28 * 28)\n",
        "\n",
        "# Number of clusters (fuzzy sets)\n",
        "num_clusters = 10\n",
        "\n",
        "# Perform k-means clustering to generate fuzzy sets\n",
        "kmeans = KMeans(n_clusters=num_clusters, random_state=0)\n",
        "kmeans.fit(x_train)\n",
        "\n",
        "# Generate fuzzy membership values based on distance to cluster centers\n",
        "fuzzy_memberships = kmeans.transform(x_train)\n",
        "\n",
        "# Create fuzzy rules\n",
        "def create_fuzzy_rules(memberships):\n",
        "    rules = []\n",
        "    for sample in memberships:\n",
        "        rule = np.argmax(sample)  # Select the cluster with the highest membership\n",
        "        rules.append(rule)\n",
        "    return np.array(rules)\n",
        "\n",
        "fuzzy_rules = create_fuzzy_rules(fuzzy_memberships)\n",
        "\n",
        "# Make predictions using fuzzy rules\n",
        "def fuzzy_predict(fuzzy_rules, memberships):\n",
        "    predictions = []\n",
        "    for i in range(len(fuzzy_rules)):\n",
        "        predictions.append(np.argmax(memberships[i] == fuzzy_rules[i]))\n",
        "    return np.array(predictions)\n",
        "\n",
        "# Apply fuzzy logic classifier to the test data\n",
        "test_fuzzy_memberships = kmeans.transform(x_test)\n",
        "y_pred = fuzzy_predict(fuzzy_rules, test_fuzzy_memberships)\n",
        "\n",
        "# Calculate accuracy\n",
        "accuracy = accuracy_score(y_test, y_pred)\n",
        "print(f\"Accuracy: {accuracy * 100:.2f}%\")"
      ]
    },
    {
      "cell_type": "code",
      "execution_count": null,
      "metadata": {
        "colab": {
          "base_uri": "https://localhost:8080/"
        },
        "outputId": "0cc84b33-6698-4161-e853-444991dc72d3",
        "id": "MchSgepcAtta"
      },
      "outputs": [
        {
          "output_type": "stream",
          "name": "stdout",
          "text": [
            "Accuracy: 96.94%\n",
            "\n",
            "F1 Scores for Each Class:\n",
            "F1 Score for digit 0: 0.9799\n",
            "F1 Score for digit 1: 0.9742\n",
            "F1 Score for digit 2: 0.9701\n",
            "F1 Score for digit 3: 0.9697\n",
            "F1 Score for digit 4: 0.9692\n",
            "F1 Score for digit 5: 0.9681\n",
            "F1 Score for digit 6: 0.9844\n",
            "F1 Score for digit 7: 0.9602\n",
            "F1 Score for digit 8: 0.9627\n",
            "F1 Score for digit 9: 0.9554\n",
            "\n",
            "Average F1 Score: 0.9694\n"
          ]
        },
        {
          "output_type": "display_data",
          "data": {
            "text/plain": [
              "<Figure size 800x600 with 2 Axes>"
            ],
            "image/png": "[encoded data removed]"
          },
          "metadata": {}
        }
      ],
      "source": [
        "#KNN  Confusion Matrix\n",
        "import seaborn as sns\n",
        "from sklearn.metrics import accuracy_score,f1_score, confusion_matrix\n",
        "\n",
        "selected_digits = [0,1,2,3,4,5,6,7,8,9]\n",
        "selected_indices_train = np.isin(y_train, selected_digits)\n",
        "X_train_selected = X_train_flat[selected_indices_train]\n",
        "y_train_selected = y_train[selected_indices_train]\n",
        "\n",
        "selected_indices_test = np.isin(y_test, selected_digits)\n",
        "X_test_selected = X_test_flat[selected_indices_test]\n",
        "y_test_selected = y_test[selected_indices_test]\n",
        "\n",
        "\n",
        "def knn_predict(x_test, x_train, y_train, k=3):\n",
        "    predictions = []\n",
        "\n",
        "    for test_point in x_test:\n",
        "        distances = np.sqrt(np.sum((x_train - test_point)**2, axis=1))   # (x_train - test_point) element-wise substraction b-n each vector in x_train and the vector test_point?\n",
        "        k_nearest_indices = np.argsort(distances)[:k]\n",
        "        k_nearest_labels = y_train[k_nearest_indices]\n",
        "        predicted_label = np.argmax(np.bincount(k_nearest_labels))\n",
        "        predictions.append(predicted_label)\n",
        "\n",
        "    return np.array(predictions)\n",
        "\n",
        "\n",
        "# Make predictions using certain number of neighbors\n",
        "k = 7\n",
        "predictions = knn_predict(X_test_selected, X_train_selected, y_train_selected, k)\n",
        "\n",
        "# Calculate accuracy in percentage\n",
        "accuracy = accuracy_score(y_test_selected, predictions) * 100\n",
        "print(f\"Accuracy: {accuracy:.2f}%\")\n",
        "\n",
        "\n",
        "# Calculate F1 score for each class and average\n",
        "f1_scores = f1_score(y_test_selected, predictions, labels=selected_digits, average=None)\n",
        "average_f1 = np.mean(f1_scores)\n",
        "\n",
        "print(\"\\nF1 Scores for Each Class:\")\n",
        "for digit, f1 in zip(selected_digits, f1_scores):\n",
        "    print(f\"F1 Score for digit {digit}: {f1:.4f}\")\n",
        "\n",
        "print(f\"\\nAverage F1 Score: {average_f1:.4f}\")\n",
        "\n",
        "\n",
        "# Create and print confusion matrix\n",
        "conf_matrix = confusion_matrix(y_test_selected, predictions, labels=selected_digits)\n",
        "\n",
        "# Create a heatmap for the confusion matrix\n",
        "plt.figure(figsize=(8, 6))\n",
        "sns.heatmap(conf_matrix, annot=True, cmap='Blues', fmt='d', xticklabels=selected_digits, yticklabels=selected_digits)\n",
        "plt.title('Confusion Matrix')\n",
        "plt.xlabel('Predicted Label')\n",
        "plt.ylabel('True Label')\n",
        "plt.show()\n",
        "\n"
      ]
    },
    {
      "cell_type": "code",
      "source": [
        "#Bayesian Three\n",
        "from collections import defaultdict\n",
        "\n",
        "class NaiveBayesClassifier:\n",
        "    def __init__(self):\n",
        "        self.class_probabilities = defaultdict(float)\n",
        "        self.feature_probabilities = defaultdict(lambda: defaultdict(float))\n",
        "\n",
        "    def train(self, X, y):\n",
        "        num_samples, num_features = X.shape\n",
        "        unique_classes = np.unique(y)\n",
        "\n",
        "        # Calculate class probabilities for dataset's class distribution.\n",
        "        for cls in unique_classes:\n",
        "            class_samples = X[y == cls]\n",
        "            self.class_probabilities[cls] = len(class_samples) / num_samples\n",
        "\n",
        "            # Calculate feature probabilities for each class\n",
        "            for feature_index in range(num_features):\n",
        "                feature_values = class_samples[:, feature_index]\n",
        "                unique_values, counts = np.unique(feature_values, return_counts=True)\n",
        "                for value, count in zip(unique_values, counts):\n",
        "                    self.feature_probabilities[cls][(feature_index, value)] += (count + 1) / (len(class_samples) + len(unique_values))\n",
        "\n",
        "    def predict(self, X):\n",
        "        predictions = []\n",
        "        for sample in X:\n",
        "            max_prob = float('-inf')\n",
        "            predicted_class = None\n",
        "            for cls, class_prob in self.class_probabilities.items():\n",
        "                prob = np.log(class_prob)\n",
        "                for feature_index, feature_value in enumerate(sample):\n",
        "                    # Use Laplace smoothing for unseen values\n",
        "                    prob += np.log(self.feature_probabilities[cls][(feature_index, feature_value)] + 1e-10)\n",
        "                if prob > max_prob:\n",
        "                    max_prob = prob\n",
        "                    predicted_class = cls\n",
        "            predictions.append(predicted_class)\n",
        "        return predictions\n",
        "\n",
        "    def accuracy(self, y_true, y_pred):\n",
        "        return np.mean(y_true == y_pred)\n",
        "\n",
        "# Instantiate the classifier\n",
        "nb_classifier = NaiveBayesClassifier()\n",
        "\n",
        "# Train the classifier\n",
        "nb_classifier.train(X_train_res16_flat, y_train)\n",
        "\n",
        "# Make predictions on test data\n",
        "predictions = nb_classifier.predict(X_test_res16_flat)\n",
        "\n",
        "# Calculate accuracy\n",
        "acc = nb_classifier.accuracy(y_test, predictions)\n",
        "print(f\"Accuracy: {acc * 100:.2f}%\")\n"
      ],
      "metadata": {
        "colab": {
          "base_uri": "https://localhost:8080/"
        },
        "id": "li1g9rSn1Hy0",
        "outputId": "74f5a019-ab19-4844-8c84-37b4a276e989"
      },
      "execution_count": null,
      "outputs": [
        {
          "output_type": "stream",
          "name": "stdout",
          "text": [
            "Accuracy: 75.42%\n"
          ]
        }
      ]
    }
  ],
  "metadata": {
    "colab": {
      "provenance": [],
      "include_colab_link": true
    },
    "kernelspec": {
      "display_name": "Python 3",
      "name": "python3"
    },
    "language_info": {
      "name": "python"
    }
  },
  "nbformat": 4,
  "nbformat_minor": 0
}